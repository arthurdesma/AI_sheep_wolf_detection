{
  "cells": [
    {
      "cell_type": "code",
      "execution_count": 2,
      "metadata": {
        "colab": {
          "base_uri": "https://localhost:8080/",
          "height": 130
        },
        "id": "nqbFgvZlulDR",
        "outputId": "989e6db8-e837-406e-ad22-46870cb3fa07"
      },
      "outputs": [
        {
          "ename": "SyntaxError",
          "evalue": "invalid syntax (134203235.py, line 1)",
          "output_type": "error",
          "traceback": [
            "\u001b[1;36m  Cell \u001b[1;32mIn[2], line 1\u001b[1;36m\u001b[0m\n\u001b[1;33m    pip install tensorflow\u001b[0m\n\u001b[1;37m        ^\u001b[0m\n\u001b[1;31mSyntaxError\u001b[0m\u001b[1;31m:\u001b[0m invalid syntax\n"
          ]
        }
      ],
      "source": [
        "pip install tensorflow\n",
        "pip install keras\n",
        "pip install opencv-python\n"
      ]
    },
    {
      "cell_type": "code",
      "execution_count": 1,
      "metadata": {
        "colab": {
          "base_uri": "https://localhost:8080/",
          "height": 391
        },
        "id": "UuZqMoC5uml2",
        "outputId": "f757dd9a-6e83-48c9-f6ed-46974aee9be8"
      },
      "outputs": [],
      "source": [
        "import numpy as np\n",
        "from tensorflow.keras.applications.vgg16 import VGG16, preprocess_input, decode_predictions\n",
        "from tensorflow.keras.preprocessing import image\n",
        "import cv2\n",
        "import os\n",
        "\n",
        "#Load the pre-trained VGG16 model\n",
        "model = VGG16(weights='imagenet')\n"
      ]
    },
    {
      "cell_type": "code",
      "execution_count": 2,
      "metadata": {},
      "outputs": [],
      "source": [
        "# Function to classify the image the real\n",
        "def classify_image(image_path):\n",
        "    # Load and preprocess the image\n",
        "    img = image.load_img(image_path, target_size=(224, 224))\n",
        "    x = image.img_to_array(img)\n",
        "    x = np.expand_dims(x, axis=0)\n",
        "    x = preprocess_input(x)\n",
        "\n",
        "    # Use VGG16 model to classify the image\n",
        "    preds = model.predict(x)\n",
        "\n",
        "    # Decode the predictions\n",
        "    decoded_preds = decode_predictions(preds, top=3)[0]\n",
        "\n",
        "    # Check if any of the predicted labels match the desired animals\n",
        "    for _, animal, probability in decoded_preds:\n",
        "        if animal in ['coyote', 'timber_wolf', 'white_wolf', 'red_wolf','Irish_wolfhound']:\n",
        "            return True, probability\n",
        "\n",
        "    return False, None"
      ]
    },
    {
      "cell_type": "code",
      "execution_count": 6,
      "metadata": {},
      "outputs": [
        {
          "name": "stdout",
          "output_type": "stream",
          "text": [
            "1/1 [==============================] - 2s 2s/step\n",
            "attaque.jpg: True\n",
            "1/1 [==============================] - 0s 413ms/step\n",
            "attaque2.jpg: True\n",
            "1/1 [==============================] - 0s 309ms/step\n",
            "attaque3.jpg: False\n",
            "1/1 [==============================] - 0s 313ms/step\n",
            "attaque4.jpg: False\n",
            "1/1 [==============================] - 0s 337ms/step\n",
            "attaque5.jpg: True\n",
            "1/1 [==============================] - 0s 322ms/step\n",
            "dog.jpg: False\n",
            "1/1 [==============================] - 0s 433ms/step\n",
            "download.jpg: True\n",
            "1/1 [==============================] - 0s 335ms/step\n",
            "images.jpg: True\n",
            "1/1 [==============================] - 0s 395ms/step\n",
            "loup.jpg: True\n",
            "1/1 [==============================] - 0s 371ms/step\n",
            "loup1.jpg: True\n",
            "1/1 [==============================] - 0s 436ms/step\n",
            "loup103.png: True\n",
            "1/1 [==============================] - 0s 373ms/step\n",
            "loup104.png: True\n",
            "1/1 [==============================] - 0s 415ms/step\n",
            "loup108.png: True\n",
            "1/1 [==============================] - 0s 415ms/step\n",
            "loup21.png: True\n",
            "1/1 [==============================] - 0s 372ms/step\n",
            "loup29.png: True\n",
            "1/1 [==============================] - 0s 331ms/step\n",
            "loup32.png: False\n",
            "1/1 [==============================] - 0s 284ms/step\n",
            "mouton2jpg.jpg: False\n",
            "1/1 [==============================] - 0s 341ms/step\n",
            "sheep.jpg: False\n",
            "1/1 [==============================] - 0s 302ms/step\n",
            "wolf.jpg: True\n"
          ]
        }
      ],
      "source": [
        "# Path to the folder containing the images\n",
        "folder_path = 'image'\n",
        "\n",
        "# Traverse all files in the folder\n",
        "for filename in os.listdir(folder_path):\n",
        "    # Check if the file is an image\n",
        "    if filename.endswith('.jpg') or filename.endswith('.jpeg') or filename.endswith('.png'):\n",
        "        # Complete path of the image\n",
        "        image_path = os.path.join(folder_path, filename)\n",
        "\n",
        "        # Classify the image\n",
        "        result, probability = classify_image(image_path)\n",
        "        print(f\"{filename}: {result}\")\n",
        "        # Effacer l'image après l'avoir analysée\n",
        "        #os.remove(image_path)\n",
        "        "
      ]
    },
    {
      "attachments": {},
      "cell_type": "markdown",
      "metadata": {},
      "source": [
        "TEST"
      ]
    },
    {
      "cell_type": "code",
      "execution_count": 3,
      "metadata": {},
      "outputs": [],
      "source": [
        "# Function to classify the image\n",
        "def classify_image(image_path):\n",
        "    # Load and preprocess the image\n",
        "    img = image.load_img(image_path, target_size=(224, 224))\n",
        "    x = image.img_to_array(img)\n",
        "    x = np.expand_dims(x, axis=0)\n",
        "    x = preprocess_input(x)\n",
        "\n",
        "    # Use VGG16 model to classify the image\n",
        "    preds = model.predict(x)\n",
        "\n",
        "    # Decode the predictions\n",
        "    decoded_preds = decode_predictions(preds, top=3)[0]\n",
        "\n",
        "    # Modify the animal names\n",
        "    for _, animal, probability in decoded_preds:\n",
        "        \n",
        "        if animal == 'coyote':\n",
        "            print (True , {animal})\n",
        "        elif animal == 'timber_wolf':\n",
        "            print (True , {animal})\n",
        "        elif animal == 'white_wolf':\n",
        "            print (True, {animal})\n",
        "        elif animal == 'red_wolf':\n",
        "            print (True, {animal})\n",
        "        elif animal == 'Irish_wolfhound':\n",
        "            print (True, {animal})\n",
        "        else: \n",
        "            print (False, {animal})\n",
        "        \n",
        "        \n"
      ]
    },
    {
      "cell_type": "code",
      "execution_count": 6,
      "metadata": {},
      "outputs": [
        {
          "name": "stdout",
          "output_type": "stream",
          "text": [
            "1/1 [==============================] - 0s 200ms/step\n",
            "False {'dogsled'}\n",
            "True {'timber_wolf'}\n",
            "False {'malamute'}\n"
          ]
        }
      ],
      "source": [
        "# Path to the image you want to classify\n",
        "image_path = 'image/attaque2.jpg'\n",
        "\n",
        "# Classify the image\n",
        "classify_image(image_path)"
      ]
    }
  ],
  "metadata": {
    "colab": {
      "provenance": []
    },
    "kernelspec": {
      "display_name": "Python 3",
      "name": "python3"
    },
    "language_info": {
      "codemirror_mode": {
        "name": "ipython",
        "version": 3
      },
      "file_extension": ".py",
      "mimetype": "text/x-python",
      "name": "python",
      "nbconvert_exporter": "python",
      "pygments_lexer": "ipython3",
      "version": "3.10.6"
    }
  },
  "nbformat": 4,
  "nbformat_minor": 0
}
