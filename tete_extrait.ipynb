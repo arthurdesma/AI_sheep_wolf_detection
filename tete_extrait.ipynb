{
 "cells": [
  {
   "cell_type": "code",
   "execution_count": 1,
   "metadata": {},
   "outputs": [
    {
     "ename": "SyntaxError",
     "evalue": "invalid syntax (1450471506.py, line 1)",
     "output_type": "error",
     "traceback": [
      "\u001b[1;36m  Cell \u001b[1;32mIn[1], line 1\u001b[1;36m\u001b[0m\n\u001b[1;33m    pip install tensorflow\u001b[0m\n\u001b[1;37m        ^\u001b[0m\n\u001b[1;31mSyntaxError\u001b[0m\u001b[1;31m:\u001b[0m invalid syntax\n"
     ]
    }
   ],
   "source": [
    "pip install tensorflow\n",
    "pip install Pillow\n"
   ]
  },
  {
   "cell_type": "code",
   "execution_count": 5,
   "metadata": {},
   "outputs": [
    {
     "ename": "error",
     "evalue": "OpenCV(4.7.0) D:\\a\\opencv-python\\opencv-python\\opencv\\modules\\dnn\\src\\darknet\\darknet_importer.cpp:210: error: (-212:Parsing error) Failed to open NetParameter file: yolov3.cfg in function 'cv::dnn::dnn4_v20221220::readNetFromDarknet'\n",
     "output_type": "error",
     "traceback": [
      "\u001b[1;31m---------------------------------------------------------------------------\u001b[0m",
      "\u001b[1;31merror\u001b[0m                                     Traceback (most recent call last)",
      "Cell \u001b[1;32mIn[5], line 4\u001b[0m\n\u001b[0;32m      1\u001b[0m \u001b[39mimport\u001b[39;00m \u001b[39mcv2\u001b[39;00m\n\u001b[0;32m      3\u001b[0m \u001b[39m# Load the pre-trained YOLOv3 model\u001b[39;00m\n\u001b[1;32m----> 4\u001b[0m net \u001b[39m=\u001b[39m cv2\u001b[39m.\u001b[39;49mdnn\u001b[39m.\u001b[39;49mreadNetFromDarknet(\u001b[39m'\u001b[39;49m\u001b[39myolov3.cfg\u001b[39;49m\u001b[39m'\u001b[39;49m, \u001b[39m'\u001b[39;49m\u001b[39myolov3.weights\u001b[39;49m\u001b[39m'\u001b[39;49m)\n\u001b[0;32m      6\u001b[0m \u001b[39m# Get the output layer names of the network\u001b[39;00m\n\u001b[0;32m      7\u001b[0m layer_names \u001b[39m=\u001b[39m net\u001b[39m.\u001b[39mgetLayerNames()\n",
      "\u001b[1;31merror\u001b[0m: OpenCV(4.7.0) D:\\a\\opencv-python\\opencv-python\\opencv\\modules\\dnn\\src\\darknet\\darknet_importer.cpp:210: error: (-212:Parsing error) Failed to open NetParameter file: yolov3.cfg in function 'cv::dnn::dnn4_v20221220::readNetFromDarknet'\n"
     ]
    }
   ],
   "source": [
    "import cv2\n",
    "\n",
    "# Load the pre-trained YOLOv3 model\n",
    "net = cv2.dnn.readNetFromDarknet('yolov3.cfg', 'yolov3.weights')\n",
    "\n",
    "# Get the output layer names of the network\n",
    "layer_names = net.getLayerNames()\n",
    "output_layers = [layer_names[i[0] - 1] for i in net.getUnconnectedOutLayers()]\n",
    "\n",
    "# Load the image\n",
    "image = cv2.imread('dog.jpg')\n",
    "\n",
    "# Resize the image to fit the model input size\n",
    "height, width, _ = image.shape\n",
    "resized_image = cv2.resize(image, (416, 416))\n",
    "\n",
    "# Normalize the image and convert it to a blob\n",
    "blob = cv2.dnn.blobFromImage(resized_image, 1/255.0, (416, 416), swapRB=True, crop=False)\n",
    "\n",
    "# Set the input for the network\n",
    "net.setInput(blob)\n",
    "\n",
    "# Perform forward pass and get the detection results\n",
    "outs = net.forward(output_layers)\n",
    "\n",
    "# Initialize empty lists for the detected objects' class IDs, confidences, and bounding boxes\n",
    "class_ids = []\n",
    "confidences = []\n",
    "boxes = []\n",
    "\n",
    "# Define the class label for sheep\n",
    "class_label = 'sheep'\n",
    "\n",
    "# Iterate over each detection\n",
    "for out in outs:\n",
    "    for detection in out:\n",
    "        scores = detection[5:]\n",
    "        class_id = np.argmax(scores)\n",
    "        confidence = scores[class_id]\n",
    "\n",
    "        if confidence > 0.5 and class_label in labels[class_id]:\n",
    "            # Convert the bounding box coordinates to the original image size\n",
    "            box = detection[0:4] * np.array([width, height, width, height])\n",
    "            (center_x, center_y, box_width, box_height) = box.astype('int')\n",
    "            x = int(center_x - (box_width / 2))\n",
    "            y = int(center_y - (box_height / 2))\n",
    "\n",
    "            # Add the class ID, confidence, and bounding box coordinates to the respective lists\n",
    "            class_ids.append(class_id)\n",
    "            confidences.append(float(confidence))\n",
    "            boxes.append([x, y, int(box_width), int(box_height)])\n",
    "\n",
    "# Apply non-maximum suppression to eliminate redundant overlapping boxes\n",
    "indices = cv2.dnn.NMSBoxes(boxes, confidences, score_threshold=0.5, nms_threshold=0.4)\n",
    "\n",
    "# Iterate over the selected bounding boxes and draw them on the image\n",
    "for i in indices:\n",
    "    i = i[0]\n",
    "    box = boxes[i]\n",
    "    x, y, w, h = box\n",
    "\n",
    "    # Draw the bounding box and label on the image\n",
    "    cv2.rectangle(image, (x, y), (x + w, y + h), (0, 255, 0), 2)\n",
    "    cv2.putText(image, class_label, (x, y - 10), cv2.FONT_HERSHEY_SIMPLEX, 0.5, (0, 255, 0), 2)\n",
    "\n",
    "# Display the resulting image with bounding boxes\n",
    "cv2.imshow('Sheep Detection', image)\n",
    "cv2.waitKey(0)\n",
    "cv2.destroyAllWindows()\n"
   ]
  }
 ],
 "metadata": {
  "kernelspec": {
   "display_name": "Python 3",
   "language": "python",
   "name": "python3"
  },
  "language_info": {
   "codemirror_mode": {
    "name": "ipython",
    "version": 3
   },
   "file_extension": ".py",
   "mimetype": "text/x-python",
   "name": "python",
   "nbconvert_exporter": "python",
   "pygments_lexer": "ipython3",
   "version": "3.10.6"
  },
  "orig_nbformat": 4
 },
 "nbformat": 4,
 "nbformat_minor": 2
}
