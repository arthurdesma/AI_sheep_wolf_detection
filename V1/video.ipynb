{
 "cells": [
  {
   "cell_type": "code",
   "execution_count": 1,
   "metadata": {},
   "outputs": [],
   "source": [
    "import cv2\n",
    "import os"
   ]
  },
  {
   "cell_type": "code",
   "execution_count": 2,
   "metadata": {},
   "outputs": [],
   "source": [
    "def decouper_video(video_path, output_folder, interval):\n",
    "    # Créer le dossier de sortie s'il n'existe pas\n",
    "    if not os.path.exists(output_folder):\n",
    "        os.makedirs(output_folder)\n",
    "\n",
    "    # Ouvrir la vidéo\n",
    "    video_capture = cv2.VideoCapture(video_path)\n",
    "    success, frame = video_capture.read()\n",
    "    count = 0\n",
    "    frame_rate = video_capture.get(cv2.CAP_PROP_FPS)\n",
    "    interval_frames = int(frame_rate * interval)\n",
    "\n",
    "    while success:\n",
    "        # Enregistrer l'image courante\n",
    "        if count % interval_frames == 0:\n",
    "            output_path = os.path.join(output_folder, f\"image_{count}.jpg\")\n",
    "            cv2.imwrite(output_path, frame)\n",
    "\n",
    "        # Lire l'image suivante\n",
    "        success, frame = video_capture.read()\n",
    "        count += 1\n",
    "\n",
    "    # Fermer la vidéo\n",
    "    video_capture.release()\n",
    "\n",
    "    print(f\"Découpage de la vidéo terminé. {count} images enregistrées dans '{output_folder}'.\")\n",
    "\n"
   ]
  },
  {
   "cell_type": "code",
   "execution_count": 3,
   "metadata": {},
   "outputs": [
    {
     "name": "stdout",
     "output_type": "stream",
     "text": [
      "Découpage de la vidéo terminé. 12221 images enregistrées dans 'test'.\n"
     ]
    }
   ],
   "source": [
    "# Exemple d'utilisation\n",
    "video_path = \"video.mp4\"\n",
    "output_folder = \"test\"\n",
    "interval = 1  # Une image toutes les 1 seconde\n",
    "decouper_video(video_path, output_folder, interval)"
   ]
  }
 ],
 "metadata": {
  "kernelspec": {
   "display_name": "Python 3",
   "language": "python",
   "name": "python3"
  },
  "language_info": {
   "codemirror_mode": {
    "name": "ipython",
    "version": 3
   },
   "file_extension": ".py",
   "mimetype": "text/x-python",
   "name": "python",
   "nbconvert_exporter": "python",
   "pygments_lexer": "ipython3",
   "version": "3.10.6"
  },
  "orig_nbformat": 4
 },
 "nbformat": 4,
 "nbformat_minor": 2
}
