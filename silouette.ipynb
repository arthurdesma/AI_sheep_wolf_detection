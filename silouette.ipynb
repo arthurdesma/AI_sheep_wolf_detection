{
  "cells": [
    {
      "cell_type": "code",
      "execution_count": 2,
      "metadata": {},
      "outputs": [
        {
          "ename": "KeyboardInterrupt",
          "evalue": "",
          "output_type": "error",
          "traceback": [
            "\u001b[1;31m---------------------------------------------------------------------------\u001b[0m",
            "\u001b[1;31mKeyboardInterrupt\u001b[0m                         Traceback (most recent call last)",
            "Cell \u001b[1;32mIn[2], line 21\u001b[0m\n\u001b[0;32m     19\u001b[0m \u001b[39m# Afficher l'image convertie\u001b[39;00m\n\u001b[0;32m     20\u001b[0m cv2\u001b[39m.\u001b[39mimshow(\u001b[39m'\u001b[39m\u001b[39mImage convertie\u001b[39m\u001b[39m'\u001b[39m, img)\n\u001b[1;32m---> 21\u001b[0m cv2\u001b[39m.\u001b[39;49mwaitKey(\u001b[39m0\u001b[39;49m)\n\u001b[0;32m     22\u001b[0m cv2\u001b[39m.\u001b[39mdestroyAllWindows()\n",
            "\u001b[1;31mKeyboardInterrupt\u001b[0m: "
          ]
        }
      ],
      "source": [
        "import cv2\n",
        "\n",
        "# Charger l'image\n",
        "img = cv2.imread('dog.jpg')\n",
        "\n",
        "# Appliquer la normalisation locale des contrastes (CLAHE)\n",
        "clahe = cv2.createCLAHE(clipLimit=2.0, tileGridSize=(8,8))\n",
        "img = cv2.cvtColor(img, cv2.COLOR_BGR2GRAY)\n",
        "img = clahe.apply(img)\n",
        "\n",
        "# Réduire le bruit\n",
        "img = cv2.fastNlMeansDenoising(img, None, 10, 7, 21)\n",
        "\n",
        "# Augmenter la luminosité\n",
        "alpha = 1.5 # coefficient de luminosité\n",
        "beta = 50 # coefficient de contraste\n",
        "img = cv2.convertScaleAbs(img, alpha=alpha, beta=beta)\n",
        "\n",
        "# Afficher l'image convertie\n",
        "cv2.imshow('Image convertie', img)\n",
        "cv2.waitKey(0)\n",
        "cv2.destroyAllWindows()\n"
      ]
    }
  ],
  "metadata": {
    "colab": {
      "provenance": []
    },
    "kernelspec": {
      "display_name": "Python 3",
      "name": "python3"
    },
    "language_info": {
      "codemirror_mode": {
        "name": "ipython",
        "version": 3
      },
      "file_extension": ".py",
      "mimetype": "text/x-python",
      "name": "python",
      "nbconvert_exporter": "python",
      "pygments_lexer": "ipython3",
      "version": "3.10.6"
    }
  },
  "nbformat": 4,
  "nbformat_minor": 0
}
